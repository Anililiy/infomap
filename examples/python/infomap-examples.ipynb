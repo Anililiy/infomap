{
 "cells": [
  {
   "cell_type": "markdown",
   "metadata": {},
   "source": [
    "# Infomap\n",
    "Multi-level network clustering based on the [Map equation](http://www.mapequation.org/publications.html#Rosvall-Axelsson-Bergstrom-2009-Map-equation).\n",
    "\n",
    "\n",
    "### The Map Equation\n",
    "\n",
    "\\begin{equation*}\n",
    "    L(M) = q_\\curvearrowright H(\\mathcal{Q}) + \\sum_{i = 1}^{m}{p_{\\circlearrowright}^i H(\\mathcal{P}^i)}\n",
    "\\end{equation*}\n",
    "\n",
    "$L(M)$ measures the amount of information it takes to describe a random walk on a network given a partition of the network into modules $M$. It is a sum of the amount of information needed to describe the movements _between_ and _within_ the modules, which balances the goodness of fit with the complexity of the model. For more information, see [www.mapequation.org](http://www.mapequation.org)."
   ]
  },
  {
   "cell_type": "markdown",
   "metadata": {},
   "source": [
    "### Import Infomap\n",
    "Infomap includes an `examples/python` folder with some examples, including this notebook. Run `make` in that directory to build the python interface to a local folder.\n",
    "\n",
    "The `infomap` package exposes two classes, `Infomap` and `MemInfomap`, that wraps an input `network`, an output `tree`, and a `run` method to run Infomap on the input network. The classes takes a string of [options](http://www.mapequation.org/code.html#Options) as input."
   ]
  },
  {
   "cell_type": "code",
   "execution_count": 1,
   "metadata": {
    "collapsed": true
   },
   "outputs": [],
   "source": [
    "from infomap import infomap"
   ]
  },
  {
   "cell_type": "markdown",
   "metadata": {},
   "source": [
    "## Simple example"
   ]
  },
  {
   "cell_type": "code",
   "execution_count": 2,
   "metadata": {
    "collapsed": false
   },
   "outputs": [
    {
     "name": "stdout",
     "output_type": "stream",
     "text": [
      "Found 2 modules with codelength: 2.320730\n",
      "\n",
      "#node module\n",
      "0 0\n",
      "1 0\n",
      "2 0\n",
      "3 1\n",
      "4 1\n",
      "5 1\n"
     ]
    }
   ],
   "source": [
    "infomapWrapper = infomap.Infomap(\"--two-level\")\n",
    "\n",
    "# Add link weight as an optional third argument\n",
    "infomapWrapper.addLink(0, 1)\n",
    "infomapWrapper.addLink(0, 2)\n",
    "infomapWrapper.addLink(0, 3)\n",
    "infomapWrapper.addLink(1, 0)\n",
    "infomapWrapper.addLink(1, 2)\n",
    "infomapWrapper.addLink(2, 1)\n",
    "infomapWrapper.addLink(2, 0)\n",
    "infomapWrapper.addLink(3, 0)\n",
    "infomapWrapper.addLink(3, 4)\n",
    "infomapWrapper.addLink(3, 5)\n",
    "infomapWrapper.addLink(4, 3)\n",
    "infomapWrapper.addLink(4, 5)\n",
    "infomapWrapper.addLink(5, 4)\n",
    "infomapWrapper.addLink(5, 3)\n",
    "\n",
    "infomapWrapper.run()\n",
    "\n",
    "tree = infomapWrapper.tree\n",
    "\n",
    "print(\"Found %d modules with codelength: %f\" % (tree.numTopModules(), tree.codelength()))\n",
    "\n",
    "print(\"\\n#node module\")\n",
    "for node in tree.leafIter():\n",
    "    print(\"%d %d\" % (node.physIndex, node.clusterIndex()))"
   ]
  },
  {
   "cell_type": "markdown",
   "metadata": {},
   "source": [
    "## Memory networks\n",
    "\n",
    "With memory networks, the flow between two nodes depends on how you arrived at the first node. This higher-order relationships can be described by trigrams as in the example below:"
   ]
  },
  {
   "cell_type": "markdown",
   "metadata": {},
   "source": [
    "### Trigrams"
   ]
  },
  {
   "cell_type": "code",
   "execution_count": 3,
   "metadata": {
    "collapsed": false
   },
   "outputs": [
    {
     "name": "stdout",
     "output_type": "stream",
     "text": [
      "Found 3 modules with codelength: 1.227078\n",
      "\n",
      "#node module\n",
      "4 0\n",
      "3 0\n",
      "2 0\n",
      "1 1\n",
      "2 1\n",
      "0 2\n"
     ]
    }
   ],
   "source": [
    "infomapWrapper = infomap.MemInfomap(\"--two-level\")\n",
    "\n",
    "# Trigrams represents a path from node A through B to C.\n",
    "# Add link weight as an optional fourth argument\n",
    "infomapWrapper.addTrigram(0, 2, 0)\n",
    "infomapWrapper.addTrigram(0, 2, 1)\n",
    "infomapWrapper.addTrigram(1, 2, 1)\n",
    "infomapWrapper.addTrigram(1, 2, 0)\n",
    "infomapWrapper.addTrigram(1, 2, 3)\n",
    "infomapWrapper.addTrigram(3, 2, 3)\n",
    "infomapWrapper.addTrigram(2, 3, 4)\n",
    "infomapWrapper.addTrigram(3, 2, 4)\n",
    "infomapWrapper.addTrigram(4, 2, 4)\n",
    "infomapWrapper.addTrigram(4, 2, 3)\n",
    "infomapWrapper.addTrigram(4, 3, 3)\n",
    "\n",
    "infomapWrapper.run()\n",
    "\n",
    "tree = infomapWrapper.tree\n",
    "\n",
    "print(\"Found %d modules with codelength: %f\" % (tree.numTopModules(), tree.codelength()))\n",
    "\n",
    "print(\"\\n#node module\")\n",
    "for node in tree.leafIter():\n",
    "    print(\"%d %d\" % (node.physIndex, node.clusterIndex()))"
   ]
  },
  {
   "cell_type": "markdown",
   "metadata": {},
   "source": [
    "#### Overlapping modules\n",
    "\n",
    "Notice that node `2` in the example below exists in both module `0` and `1`. This is because `MemInfomap` partitions the higher-order state network which can include multiple state nodes for each physical node. For trigrams, a state node is a pair of `previousNode node`. To keep the state network in the output tree, add the `--expanded` flag to configure `MemInfomap`:"
   ]
  },
  {
   "cell_type": "code",
   "execution_count": 4,
   "metadata": {
    "collapsed": false
   },
   "outputs": [
    {
     "name": "stdout",
     "output_type": "stream",
     "text": [
      "Found 3 modules with codelength: 1.227078\n",
      "\n",
      "#previousNode node module\n",
      "2 3 0\n",
      "3 4 0\n",
      "2 4 0\n",
      "3 2 0\n",
      "4 2 0\n",
      "2 1 1\n",
      "0 2 1\n",
      "1 2 1\n",
      "2 0 2\n"
     ]
    }
   ],
   "source": [
    "# Store expanded state network\n",
    "infomapWrapper = infomap.MemInfomap(\"--two-level --expanded\")\n",
    "\n",
    "infomapWrapper.addTrigram(0, 2, 0)\n",
    "infomapWrapper.addTrigram(0, 2, 1)\n",
    "infomapWrapper.addTrigram(1, 2, 1)\n",
    "infomapWrapper.addTrigram(1, 2, 0)\n",
    "infomapWrapper.addTrigram(1, 2, 3)\n",
    "infomapWrapper.addTrigram(3, 2, 3)\n",
    "infomapWrapper.addTrigram(2, 3, 4)\n",
    "infomapWrapper.addTrigram(3, 2, 4)\n",
    "infomapWrapper.addTrigram(4, 2, 4)\n",
    "infomapWrapper.addTrigram(4, 2, 3)\n",
    "infomapWrapper.addTrigram(4, 3, 3)\n",
    "\n",
    "infomapWrapper.run()\n",
    "\n",
    "tree = infomapWrapper.tree\n",
    "\n",
    "print(\"Found %d modules with codelength: %f\" % (tree.numTopModules(), tree.codelength()))\n",
    "\n",
    "print(\"\\n#previousNode node module\")\n",
    "for node in tree.leafIter():\n",
    "    print(\"%d %d %d\" % (node.stateIndex, node.physIndex, node.clusterIndex()))"
   ]
  },
  {
   "cell_type": "markdown",
   "metadata": {},
   "source": [
    "As seen in the expanded output above, node `2` is represented by four state nodes partitioned into two modules depending on where you come from; if you go to node `2` from node `0` or `1` you are still considered to be in module `1`, but if you go to node `2` from node `3` and `4` you are still considered to be in module `0`."
   ]
  },
  {
   "cell_type": "markdown",
   "metadata": {},
   "source": [
    "### Multi-layer networks"
   ]
  },
  {
   "cell_type": "code",
   "execution_count": 5,
   "metadata": {
    "collapsed": false
   },
   "outputs": [
    {
     "name": "stdout",
     "output_type": "stream",
     "text": [
      "Found 3 modules with codelength: 0.865437\n",
      "\n",
      "#layer node module:\n",
      "2 1 0\n",
      "1 2 0\n",
      "2 3 1\n",
      "3 2 1\n",
      "0 0 2\n"
     ]
    }
   ],
   "source": [
    "infomapWrapper = infomap.MemInfomap(\"--two-level --expanded\")\n",
    "\n",
    "# from (layer, node) to (layer, node) weight\n",
    "infomapWrapper.addMultiplexLink(2, 1, 1, 2, 1.0)\n",
    "infomapWrapper.addMultiplexLink(1, 2, 2, 1, 1.0)\n",
    "infomapWrapper.addMultiplexLink(3, 2, 2, 3, 1.0)\n",
    "\n",
    "infomapWrapper.run()\n",
    "\n",
    "tree = infomapWrapper.tree\n",
    "\n",
    "print(\"Found %d modules with codelength: %f\" % (tree.numTopModules(), tree.codelength()))\n",
    "\n",
    "print(\"\\n#layer node module:\")\n",
    "for node in tree.leafIter():\n",
    "    print(\"%d %d %d\" % (node.stateIndex, node.physIndex, node.clusterIndex()))"
   ]
  },
  {
   "cell_type": "markdown",
   "metadata": {},
   "source": [
    "## Infomap + NetworkX\n",
    "Generate and draw a network with NetworkX, colored\n",
    "according to the community structure found by Infomap."
   ]
  },
  {
   "cell_type": "code",
   "execution_count": 9,
   "metadata": {
    "collapsed": false
   },
   "outputs": [],
   "source": [
    "import networkx as nx\n",
    "import matplotlib.pyplot as plt\n",
    "import matplotlib.colors as colors\n",
    "%matplotlib inline"
   ]
  },
  {
   "cell_type": "code",
   "execution_count": 35,
   "metadata": {
    "collapsed": false
   },
   "outputs": [],
   "source": [
    "def findCommunities(G):\n",
    "    \"\"\"\n",
    "    Partition network with the Infomap algorithm.\n",
    "    Annotates nodes with 'community' id and return number of communities found.\n",
    "    \"\"\"\n",
    "    infomapWrapper = infomap.Infomap(\"--two-level --silent\")\n",
    "\n",
    "    print(\"Building Infomap network from a NetworkX graph...\")\n",
    "    for e in G.edges_iter():\n",
    "        infomapWrapper.addLink(*e)\n",
    "\n",
    "    print(\"Find communities with Infomap...\")\n",
    "    infomapWrapper.run();\n",
    "\n",
    "    tree = infomapWrapper.tree\n",
    "\n",
    "    print(\"Found %d modules with codelength: %f\" % (tree.numTopModules(), tree.codelength()))\n",
    "\n",
    "    communities = {}\n",
    "    for node in tree.leafIter():\n",
    "        communities[node.originalLeafIndex] = node.clusterIndex()\n",
    "\n",
    "    nx.set_node_attributes(G, 'community', communities)\n",
    "    return tree.numTopModules()"
   ]
  },
  {
   "cell_type": "code",
   "execution_count": 36,
   "metadata": {
    "collapsed": true
   },
   "outputs": [],
   "source": [
    "def drawNetwork(G):\n",
    "    # position map\n",
    "    pos = nx.spring_layout(G)\n",
    "    # community ids\n",
    "    communities = [v for k,v in nx.get_node_attributes(G, 'community').items()]\n",
    "    numCommunities = max(communities) + 1\n",
    "    # color map from http://colorbrewer2.org/\n",
    "    cmapLight = colors.ListedColormap(['#a6cee3', '#b2df8a', '#fb9a99', '#fdbf6f', '#cab2d6'], 'indexed', numCommunities)\n",
    "    cmapDark = colors.ListedColormap(['#1f78b4', '#33a02c', '#e31a1c', '#ff7f00', '#6a3d9a'], 'indexed', numCommunities)\n",
    "\n",
    "    # Draw edges\n",
    "    nx.draw_networkx_edges(G, pos)\n",
    "\n",
    "    # Draw nodes\n",
    "    nodeCollection = nx.draw_networkx_nodes(G,\n",
    "        pos = pos,\n",
    "        node_color = communities,\n",
    "        cmap = cmapLight\n",
    "    )\n",
    "    # Set node border color to the darker shade\n",
    "    darkColors = [cmapDark(v) for v in communities]\n",
    "    nodeCollection.set_edgecolor(darkColors)\n",
    "\n",
    "    # Draw node labels\n",
    "    for n in G.nodes_iter():\n",
    "        plt.annotate(n,\n",
    "            xy = pos[n],\n",
    "            textcoords = 'offset points',\n",
    "            horizontalalignment = 'center',\n",
    "            verticalalignment = 'center',\n",
    "            xytext = [0, 0],\n",
    "            color = cmapDark(communities[n])\n",
    "        )\n",
    "\n",
    "    plt.axis('off')\n",
    "    # plt.savefig(\"karate.png\")\n",
    "    plt.show()"
   ]
  },
  {
   "cell_type": "code",
   "execution_count": 40,
   "metadata": {
    "collapsed": false
   },
   "outputs": [
    {
     "name": "stdout",
     "output_type": "stream",
     "text": [
      "Building Infomap network from a NetworkX graph...\n",
      "Find communities with Infomap...\n",
      "Found 3 modules with codelength: 4.311793\n"
     ]
    },
    {
     "data": {
      "image/png": "[encoded data removed]",
      "text/plain": [
       "<matplotlib.figure.Figure at 0x11696d950>"
      ]
     },
     "metadata": {},
     "output_type": "display_data"
    }
   ],
   "source": [
    "G=nx.karate_club_graph()\n",
    "\n",
    "findCommunities(G)\n",
    "\n",
    "drawNetwork(G)"
   ]
  },
  {
   "cell_type": "code",
   "execution_count": null,
   "metadata": {
    "collapsed": true
   },
   "outputs": [],
   "source": []
  }
 ],
 "metadata": {
  "kernelspec": {
   "display_name": "Python 2",
   "language": "python",
   "name": "python2"
  },
  "language_info": {
   "codemirror_mode": {
    "name": "ipython",
    "version": 2
   },
   "file_extension": ".py",
   "mimetype": "text/x-python",
   "name": "python",
   "nbconvert_exporter": "python",
   "pygments_lexer": "ipython2",
   "version": "2.7.11"
  }
 },
 "nbformat": 4,
 "nbformat_minor": 0
}
